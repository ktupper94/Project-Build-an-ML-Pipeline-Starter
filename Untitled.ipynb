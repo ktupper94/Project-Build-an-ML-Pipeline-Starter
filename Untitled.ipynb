{
 "cells": [
  {
   "cell_type": "code",
   "execution_count": 1,
   "id": "9de73977-550d-42ab-b1a1-340cad7bea5b",
   "metadata": {},
   "outputs": [],
   "source": [
    "import wandb\n",
    "import pandas as pd"
   ]
  },
  {
   "cell_type": "code",
   "execution_count": 6,
   "id": "c04c260e-d76c-400b-9636-d6e8cbf1e259",
   "metadata": {},
   "outputs": [
    {
     "data": {
      "text/html": [
       "Finishing last run (ID:es8go9l0) before initializing another..."
      ],
      "text/plain": [
       "<IPython.core.display.HTML object>"
      ]
     },
     "metadata": {},
     "output_type": "display_data"
    },
    {
     "data": {
      "text/html": [
       " View run <strong style=\"color:#cdcd00\">earnest-meadow-63</strong> at: <a href='https://wandb.ai/kelton-tupper-none/nyc_airbnb/runs/es8go9l0' target=\"_blank\">https://wandb.ai/kelton-tupper-none/nyc_airbnb/runs/es8go9l0</a><br/> View job at <a href='https://wandb.ai/kelton-tupper-none/nyc_airbnb/jobs/QXJ0aWZhY3RDb2xsZWN0aW9uOjQ5NzYwMjgxNg==/version_details/v0' target=\"_blank\">https://wandb.ai/kelton-tupper-none/nyc_airbnb/jobs/QXJ0aWZhY3RDb2xsZWN0aW9uOjQ5NzYwMjgxNg==/version_details/v0</a><br/>Synced 5 W&B file(s), 0 media file(s), 0 artifact file(s) and 0 other file(s)"
      ],
      "text/plain": [
       "<IPython.core.display.HTML object>"
      ]
     },
     "metadata": {},
     "output_type": "display_data"
    },
    {
     "data": {
      "text/html": [
       "Find logs at: <code>./wandb/run-20241120_180722-es8go9l0/logs</code>"
      ],
      "text/plain": [
       "<IPython.core.display.HTML object>"
      ]
     },
     "metadata": {},
     "output_type": "display_data"
    },
    {
     "data": {
      "text/html": [
       "Successfully finished last run (ID:es8go9l0). Initializing new run:<br/>"
      ],
      "text/plain": [
       "<IPython.core.display.HTML object>"
      ]
     },
     "metadata": {},
     "output_type": "display_data"
    },
    {
     "data": {
      "text/html": [
       "wandb version 0.18.7 is available!  To upgrade, please run:\n",
       " $ pip install wandb --upgrade"
      ],
      "text/plain": [
       "<IPython.core.display.HTML object>"
      ]
     },
     "metadata": {},
     "output_type": "display_data"
    },
    {
     "data": {
      "text/html": [
       "Tracking run with wandb version 0.16.0"
      ],
      "text/plain": [
       "<IPython.core.display.HTML object>"
      ]
     },
     "metadata": {},
     "output_type": "display_data"
    },
    {
     "data": {
      "text/html": [
       "Run data is saved locally in <code>/home/keton/Project-Build-an-ML-Pipeline-Starter/wandb/run-20241120_180752-q3zoaec5</code>"
      ],
      "text/plain": [
       "<IPython.core.display.HTML object>"
      ]
     },
     "metadata": {},
     "output_type": "display_data"
    },
    {
     "data": {
      "text/html": [
       "Syncing run <strong><a href='https://wandb.ai/kelton-tupper-none/nyc_airbnb/runs/q3zoaec5' target=\"_blank\">absurd-haze-64</a></strong> to <a href='https://wandb.ai/kelton-tupper-none/nyc_airbnb' target=\"_blank\">Weights & Biases</a> (<a href='https://wandb.me/run' target=\"_blank\">docs</a>)<br/>"
      ],
      "text/plain": [
       "<IPython.core.display.HTML object>"
      ]
     },
     "metadata": {},
     "output_type": "display_data"
    },
    {
     "data": {
      "text/html": [
       " View project at <a href='https://wandb.ai/kelton-tupper-none/nyc_airbnb' target=\"_blank\">https://wandb.ai/kelton-tupper-none/nyc_airbnb</a>"
      ],
      "text/plain": [
       "<IPython.core.display.HTML object>"
      ]
     },
     "metadata": {},
     "output_type": "display_data"
    },
    {
     "data": {
      "text/html": [
       " View run at <a href='https://wandb.ai/kelton-tupper-none/nyc_airbnb/runs/q3zoaec5' target=\"_blank\">https://wandb.ai/kelton-tupper-none/nyc_airbnb/runs/q3zoaec5</a>"
      ],
      "text/plain": [
       "<IPython.core.display.HTML object>"
      ]
     },
     "metadata": {},
     "output_type": "display_data"
    },
    {
     "name": "stderr",
     "output_type": "stream",
     "text": [
      "\u001b[34m\u001b[1mwandb\u001b[0m:   1 of 1 files downloaded.  \n"
     ]
    }
   ],
   "source": [
    "run = wandb.init(project=\"nyc_airbnb\", job_type=\"data_processing\")\n",
    "\n",
    "artifact = run.use_artifact('trainval_data.csv:latest', type='trainval_data')\n",
    "\n",
    "artifact_dir = artifact.download()"
   ]
  },
  {
   "cell_type": "code",
   "execution_count": 17,
   "id": "05d5a87e-b3e8-43e5-b2c2-4cc4c83579af",
   "metadata": {},
   "outputs": [],
   "source": [
    "csv_file_path = f\"{artifact_dir}/tmpfklm_9bj\""
   ]
  },
  {
   "cell_type": "code",
   "execution_count": 18,
   "id": "5d7dc813-7b3d-4539-b455-3306b5a68437",
   "metadata": {},
   "outputs": [],
   "source": [
    "data = pd.read_csv(csv_file_path)"
   ]
  },
  {
   "cell_type": "code",
   "execution_count": 21,
   "id": "43060511-13cd-4328-9e75-058aae376f19",
   "metadata": {},
   "outputs": [
    {
     "data": {
      "text/plain": [
       "id                                   0\n",
       "name                                 7\n",
       "host_id                              0\n",
       "host_name                            7\n",
       "neighbourhood_group                  0\n",
       "neighbourhood                        0\n",
       "latitude                             0\n",
       "longitude                            0\n",
       "room_type                            0\n",
       "price                                0\n",
       "minimum_nights                       0\n",
       "number_of_reviews                    0\n",
       "last_review                       3014\n",
       "reviews_per_month                 3014\n",
       "calculated_host_listings_count       0\n",
       "availability_365                     0\n",
       "dtype: int64"
      ]
     },
     "execution_count": 21,
     "metadata": {},
     "output_type": "execute_result"
    }
   ],
   "source": [
    "data.isnull().sum()"
   ]
  },
  {
   "cell_type": "code",
   "execution_count": null,
   "id": "9fda7113-e99d-4ab6-a4cd-977db30015ef",
   "metadata": {},
   "outputs": [],
   "source": []
  }
 ],
 "metadata": {
  "kernelspec": {
   "display_name": "Python 3 (ipykernel)",
   "language": "python",
   "name": "python3"
  },
  "language_info": {
   "codemirror_mode": {
    "name": "ipython",
    "version": 3
   },
   "file_extension": ".py",
   "mimetype": "text/x-python",
   "name": "python",
   "nbconvert_exporter": "python",
   "pygments_lexer": "ipython3",
   "version": "3.10.15"
  }
 },
 "nbformat": 4,
 "nbformat_minor": 5
}
